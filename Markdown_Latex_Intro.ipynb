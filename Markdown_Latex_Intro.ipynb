{
 "cells": [
  {
   "cell_type": "markdown",
   "metadata": {},
   "source": [
    "# Introduction of Markdown and Latex in Jupyter Notebook"
   ]
  },
  {
   "cell_type": "markdown",
   "metadata": {},
   "source": [
    "To use a Markdown cell, change the cell type from 'code' to 'Markdown' in the toolbar. Or move cursor to the cell you want, then use shortcut 'esc->m'."
   ]
  },
  {
   "cell_type": "markdown",
   "metadata": {},
   "source": [
    "To see how this notebook is written, double click each cell if you're using Jupyter Notebook. Or choose 'raw' when you're viewing on github."
   ]
  },
  {
   "cell_type": "markdown",
   "metadata": {},
   "source": [
    "---\n",
    "# Markdown"
   ]
  },
  {
   "cell_type": "markdown",
   "metadata": {},
   "source": [
    "# Very large title\n",
    "## Large title\n",
    "### Normal one\n",
    "#### small one\n",
    "##### even smaller\n",
    "###### smallest"
   ]
  },
  {
   "cell_type": "markdown",
   "metadata": {},
   "source": [
    "You can also use **bold** and *italic*. (You can also use underscore for them, e.g. __bold__ and _italic_)"
   ]
  },
  {
   "cell_type": "markdown",
   "metadata": {},
   "source": [
    "We also have ~~strikethrough~~"
   ]
  },
  {
   "cell_type": "markdown",
   "metadata": {},
   "source": [
    "Here is a [link to website](https://github.com/adam-p/markdown-here/wiki/Markdown-Cheatsheet)  \n",
    "Here is a [link to local file](install_instruction.ipynb)  \n",
    "Here is a web image![duke](https://upload.wikimedia.org/wikipedia/en/thumb/b/b6/Duke_University_Crest.svg/125px-Duke_University_Crest.svg.png)"
   ]
  },
  {
   "cell_type": "markdown",
   "metadata": {},
   "source": [
    "You might not noticed, there are three lines in the previous cell. Unlike text editor like word, you can't just \n",
    "'enter' to start a new line. You need to do two 'space' then 'enter'  \n",
    "to start a new line (make sure you view the raw code of this cell)"
   ]
  },
  {
   "cell_type": "markdown",
   "metadata": {},
   "source": [
    "There are other ways to have multiple lines: ordered or un-ordered lists:\n",
    "1. Orderded list look like this\n",
    "2. Just use [number].'space' and then your text"
   ]
  },
  {
   "cell_type": "markdown",
   "metadata": {},
   "source": [
    "- You can also use un-oderded list\n",
    "- Just 'dash' then 'space'"
   ]
  },
  {
   "cell_type": "markdown",
   "metadata": {},
   "source": [
    "For code blocks, use three ` to wrap the code block like this\n",
    "```python\n",
    "import nltk\n",
    "nltk.download('popular')\n",
    "```"
   ]
  },
  {
   "cell_type": "markdown",
   "metadata": {},
   "source": [
    "You don't need to\n",
    "```\n",
    "specify language name\n",
    "```"
   ]
  },
  {
   "cell_type": "markdown",
   "metadata": {},
   "source": [
    "A fancy but little bit hard to make feature: table"
   ]
  },
  {
   "cell_type": "markdown",
   "metadata": {},
   "source": [
    "| Tables        | Are           | Cool  |\n",
    "| ------------- |:-------------:| -----:|\n",
    "| col 3 is      | right-aligned | $1600 |\n",
    "| col 2 is      | centered      |   $12 |\n",
    "| zebra stripes | are neat      |    $1 |"
   ]
  },
  {
   "cell_type": "markdown",
   "metadata": {},
   "source": [
    "I just copied from [this tutorial](https://github.com/adam-p/markdown-here/wiki/Markdown-Cheatsheet)"
   ]
  },
  {
   "cell_type": "markdown",
   "metadata": {},
   "source": [
    "# LaTeX"
   ]
  },
  {
   "cell_type": "markdown",
   "metadata": {},
   "source": [
    "You can incorporate $\\LaTeX$ in a Mardown cell by putting LaTeX code between '$' "
   ]
  },
  {
   "cell_type": "markdown",
   "metadata": {},
   "source": [
    "Let me just show you an example here:  \n",
    "Normal distribution: $f(x|\\mu,\\sigma^2)=\\frac{1}{\\sqrt{2\\pi\\sigma^2}}e^{-\\frac{(x-\\mu)^2}{2\\sigma^2}}$"
   ]
  },
  {
   "cell_type": "markdown",
   "metadata": {},
   "source": [
    "For more detailed tutorials, I would refer [this one](https://www.sharelatex.com/blog/latex-guides/beginners-tutorial.html) and [this cheatsheet](http://www.andy-roberts.net/res/writing/latex/symbols.pdf)"
   ]
  },
  {
   "cell_type": "code",
   "execution_count": null,
   "metadata": {
    "collapsed": true
   },
   "outputs": [],
   "source": []
  }
 ],
 "metadata": {
  "kernelspec": {
   "display_name": "Python 3",
   "language": "python",
   "name": "python3"
  },
  "language_info": {
   "codemirror_mode": {
    "name": "ipython",
    "version": 3
   },
   "file_extension": ".py",
   "mimetype": "text/x-python",
   "name": "python",
   "nbconvert_exporter": "python",
   "pygments_lexer": "ipython3",
   "version": "3.6.1"
  }
 },
 "nbformat": 4,
 "nbformat_minor": 2
}
